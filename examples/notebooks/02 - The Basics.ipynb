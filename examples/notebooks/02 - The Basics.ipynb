{
 "cells": [
  {
   "cell_type": "markdown",
   "metadata": {},
   "source": [
    "## The Basics\n",
    "\n",
    "We're going to walk through the basics of the `dtk-tools` functionality:\n",
    "\n",
    "- configuring a simulation\n",
    "- running a simulation on your local machine\n",
    "- monitoring the progress of a submitted simulation\n",
    "- plotting from the simulation output files"
   ]
  },
  {
   "cell_type": "markdown",
   "metadata": {},
   "source": [
    "### Configuring a simulation\n",
    "\n",
    "Let's start by defining a default `DTKConfigBuilder` object.  This holds the configuration parameters, campaign events, and a few other details that are beyond the present scope.\n",
    "\n",
    "We'll also use the demographics and climate for a single-village set-up based on Namawala, Tanzania.\n",
    "\n",
    "And finally, let's modify the duration of the simulation to be five years."
   ]
  },
  {
   "cell_type": "code",
   "execution_count": null,
   "metadata": {
    "collapsed": false
   },
   "outputs": [],
   "source": [
    "from dtk.utils.core.DTKConfigBuilder import DTKConfigBuilder\n",
    "from dtk.vector.study_sites import configure_site\n",
    "\n",
    "cb = DTKConfigBuilder.from_defaults('VECTOR_SIM')\n",
    "configure_site(cb, 'Namawala')\n",
    "cb.set_param('Simulation_Duration', 5*365)\n",
    "\n",
    "run_sim_args =  { 'config_builder' : cb,\n",
    "                  'exp_name'       : 'VectorDemo' }"
   ]
  },
  {
   "cell_type": "markdown",
   "metadata": {},
   "source": [
    "### Running a simulation\n",
    "\n",
    "If we were running from the command line, we might save the code above in a file, e.g. `demo.py`, and then call: \n",
    "```\n",
    "dtk run demo.py\n",
    "```\n",
    "\n",
    "More command-line flags are listed on the corresponding help pages:\n",
    "```\n",
    "dtk run -h\n",
    "```\n",
    "\n",
    "But for now, we'll just define a `SimulationManager` and call into the same functionality with the `run_demo()` function defined below."
   ]
  },
  {
   "cell_type": "code",
   "execution_count": null,
   "metadata": {
    "collapsed": true
   },
   "outputs": [],
   "source": [
    "from dtk.utils.core.DTKSetupParser import DTKSetupParser\n",
    "from dtk.utils.simulation.SimulationManager import SimulationManagerFactory\n",
    "\n",
    "sm = SimulationManagerFactory.from_exe(DTKSetupParser().get('BINARIES','exe_path'),'LOCAL')\n",
    "\n",
    "def run_demo():\n",
    "    sm.RunSimulations(**run_sim_args)"
   ]
  },
  {
   "cell_type": "markdown",
   "metadata": {},
   "source": [
    "Let's run the simulation now, and print out the meta-data associated with the `SimulationManager` that should also be cached locally as a JSON file in the `simulations` sub-directory."
   ]
  },
  {
   "cell_type": "code",
   "execution_count": null,
   "metadata": {
    "collapsed": false
   },
   "outputs": [],
   "source": [
    "run_demo()\n",
    "\n",
    "from IPython.display import display\n",
    "display(sm.exp_data)"
   ]
  },
  {
   "cell_type": "markdown",
   "metadata": {},
   "source": [
    "###Monitoring simulation status\n",
    "\n",
    "Monitoring the status of simulations from the command line can be done as follows:\n",
    "```\n",
    "dtk status\n",
    "```\n",
    "\n",
    "By default, this would take the most recent cached simulation meta-data and reconstruct the `SimulationManager` object.  We'll just keep the manager we have and use the `monitor_status()` function defined below."
   ]
  },
  {
   "cell_type": "code",
   "execution_count": null,
   "metadata": {
    "collapsed": true
   },
   "outputs": [],
   "source": [
    "import time\n",
    "\n",
    "def monitor_status():\n",
    "    while True:\n",
    "        states, msgs = sm.SimulationStatus()\n",
    "        if sm.statusFinished(states): \n",
    "            break\n",
    "        else:\n",
    "            sm.printStatus(states, msgs)\n",
    "            time.sleep(3)\n",
    "    sm.printStatus(states, msgs)"
   ]
  },
  {
   "cell_type": "code",
   "execution_count": null,
   "metadata": {
    "collapsed": false
   },
   "outputs": [],
   "source": [
    "monitor_status()"
   ]
  },
  {
   "cell_type": "markdown",
   "metadata": {
    "collapsed": true
   },
   "source": [
    "### Plotting the simulation output\n",
    "\n",
    "Let's define a list of two analyzers we want to apply to the output of this simulation, one looking at the time series in the `InsetChart.json` output file and the other looking at per-species channels in `VectorSpeciesReport.json`.\n",
    "\n",
    "The analyzer objects can be passed logic on how they should filter, select, group, and plot channels from these input files."
   ]
  },
  {
   "cell_type": "code",
   "execution_count": null,
   "metadata": {
    "collapsed": false
   },
   "outputs": [],
   "source": [
    "from dtk.utils.analyzers import sample_selection, group_by_name, plot_grouped_lines, \\\n",
    "                                TimeseriesAnalyzer, VectorSpeciesAnalyzer\n",
    "\n",
    "analyzers = [ TimeseriesAnalyzer(\n",
    "                filename='InsetChart.json',\n",
    "                channels=['Rainfall', 'Adult Vectors', 'Daily EIR', 'Infected'],\n",
    "                select_function=sample_selection(freq='W', start_date='1/1/2000'),\n",
    "                group_function=group_by_name('_site_'),\n",
    "                plot_function=plot_grouped_lines\n",
    "                ),\n",
    "              VectorSpeciesAnalyzer(\n",
    "                filename='VectorSpeciesReport.json',\n",
    "                channels=['Adult Vectors', 'Daily EIR'],        \n",
    "                select_function=sample_selection(freq='W', start_date='1/1/2000'),\n",
    "                group_function=group_by_name('_site_'),\n",
    "                )\n",
    "            ]"
   ]
  },
  {
   "cell_type": "markdown",
   "metadata": {},
   "source": [
    "If we were running from the command line, we might save the code above in a file, e.g. `plots.py`, and then call: \n",
    "```\n",
    "dtk analyze plots.py\n",
    "```\n",
    "\n",
    "We'll add these analyzers to our existing `SimulationManager` and call the `draw_plots()` function defined below."
   ]
  },
  {
   "cell_type": "code",
   "execution_count": null,
   "metadata": {
    "collapsed": true
   },
   "outputs": [],
   "source": [
    "def draw_plots():\n",
    "    sm.analyzers = analyzers\n",
    "    sm.AnalyzeSimulations()"
   ]
  },
  {
   "cell_type": "code",
   "execution_count": null,
   "metadata": {
    "collapsed": false
   },
   "outputs": [],
   "source": [
    "%matplotlib inline \n",
    "draw_plots()"
   ]
  }
 ],
 "metadata": {
  "kernelspec": {
   "display_name": "Python 2",
   "language": "python",
   "name": "python2"
  },
  "language_info": {
   "codemirror_mode": {
    "name": "ipython",
    "version": 2
   },
   "file_extension": ".py",
   "mimetype": "text/x-python",
   "name": "python",
   "nbconvert_exporter": "python",
   "pygments_lexer": "ipython2",
   "version": "2.7.10"
  }
 },
 "nbformat": 4,
 "nbformat_minor": 0
}
