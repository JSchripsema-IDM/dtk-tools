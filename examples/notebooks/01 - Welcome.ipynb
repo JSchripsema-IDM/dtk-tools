{
 "cells": [
  {
   "cell_type": "markdown",
   "metadata": {},
   "source": [
    "# Welcome\n",
    "\n",
    "Welcome to this first workbook. Here we will set up the environment to make sure the following workbooks will work correctly. \n",
    "\n",
    "The plan for this workbook is to:\n",
    "- Set up the dtk_setup.cfg file\n",
    "- Make sure the dtk import statement are working\n",
    "- Make sure a simulation can run\n",
    "- Prove that we can graph something"
   ]
  },
  {
   "cell_type": "markdown",
   "metadata": {},
   "source": [
    "# Setup the dtk_setup.cfg file\n",
    "\n",
    "This file contains all the paths and information needed by the DTK python package to execute your simulations locally or on COMPS. For the purpose of this demo, only the local simulations will be used.\n",
    "\n",
    "This file is located at `C:\\Python27\\Lib\\site-packages\\dtk\\dtk_setup.cfg`. You can edit it by hand, but we made things convenient and you can set the different paths directly in the following block. Make sure to execute it before continuing.\n"
   ]
  },
  {
   "cell_type": "code",
   "execution_count": 1,
   "metadata": {
    "collapsed": false
   },
   "outputs": [
    {
     "name": "stdout",
     "output_type": "stream",
     "text": [
      "C:\\Python27\\lib\\site-packages\\dtk\\dtk_setup.cfg\n",
      "The dtk_config.cfg file has been successfully updated!\n"
     ]
    }
   ],
   "source": [
    "import os\n",
    "import utils\n",
    "\n",
    "###\n",
    "# How many simulations will be executed\n",
    "# 10 is a good default value that will accommodate all the examples\n",
    "# and prevent you to run too many simulations with a misconfigured sweep\n",
    "max_sims = 10\n",
    "\n",
    "###\n",
    "# The simulations storage path\n",
    "# We default it to a /simulations folder contained at the same level as the workbooks\n",
    "current_path = os.path.dirname(os.path.abspath('__file__'))\n",
    "sim_root = os.path.join(current_path, 'simulations')\n",
    "\n",
    "###\n",
    "# The input files path\n",
    "# Necessary input files are provided with this package and are located in a Data_Files folder\n",
    "input_root = os.path.join(current_path, 'Data_Files')\n",
    "\n",
    "###\n",
    "# Binary path\n",
    "# Default to a bin/ folder\n",
    "bin_path = os.path.join(current_path, 'bin')\n",
    "\n",
    "###\n",
    "# Eradication.exe path\n",
    "# If you have installed the EMOD 2.0 quickstart bundle, the Eradication.exe should be at the default location.\n",
    "exe_path = os.path.join(os.getenv('USERPROFILE'),\"appdata\\\\local\\\\EMOD\\\\QuickStart\\\\v2.0.0\\\\Eradication.exe\")\n",
    "\n",
    "# Write the values to the config\n",
    "utils.write_dtk_config(max_sims, sim_root, input_root, bin_path, exe_path)"
   ]
  },
  {
   "cell_type": "markdown",
   "metadata": {},
   "source": [
    "# Make sure the dtk import works\n",
    "The dtk package contains all the scripts necessary to run simulations. We need to make sure that your environment is properly configured and that you can properly import it."
   ]
  },
  {
   "cell_type": "code",
   "execution_count": 2,
   "metadata": {
    "collapsed": false
   },
   "outputs": [
    {
     "name": "stdout",
     "output_type": "stream",
     "text": [
      "Failed loading COMPSJavaInterop package; you will only be able to run local simulations\n",
      "The DTK module is present and working!\n"
     ]
    }
   ],
   "source": [
    "import dtk\n",
    "utils.test_if_dtk_present()"
   ]
  },
  {
   "cell_type": "markdown",
   "metadata": {},
   "source": [
    "# Make sure we can run simulations\n",
    "Let's run a test simulation and check if we can poll for its status.\n",
    "\n",
    "<div class=\"alert alert-danger\" role=\"alert\" style=\"margin: 10px\">\n",
    "<p>**WARNING**</p>\n",
    "\n",
    "<p>Make sure to wait for the *The simulation completed successfully!* message before moving to the next step.</p>\n",
    "</div>\n"
   ]
  },
  {
   "cell_type": "code",
   "execution_count": 3,
   "metadata": {
    "collapsed": false
   },
   "outputs": [
    {
     "name": "stdout",
     "output_type": "stream",
     "text": [
      "Simulation running...\n",
      "Simulation running...\n",
      "The simulation completed successfully!\n"
     ]
    },
    {
     "name": "stderr",
     "output_type": "stream",
     "text": [
      "Exception in thread Thread-6:\n",
      "Traceback (most recent call last):\n",
      "  File \"C:\\Python27\\lib\\threading.py\", line 810, in __bootstrap_inner\n",
      "    self.run()\n",
      "  File \"C:\\Python27\\lib\\site-packages\\dtk\\utils\\simulation\\Monitor.py\", line 30, in run\n",
      "    if self.job_id in jobids and ('Eradication.exe' in psutil.Process(self.job_id).exe()):\n",
      "TypeError: 'str' object is not callable\n",
      "\n"
     ]
    }
   ],
   "source": [
    "from dtk.utils.core.DTKConfigBuilder import DTKConfigBuilder\n",
    "from dtk.vector.study_sites import configure_site\n",
    "from dtk.utils.core.DTKSetupParser import DTKSetupParser\n",
    "from dtk.utils.simulation.SimulationManager import SimulationManagerFactory\n",
    "import time\n",
    "\n",
    "# Create the config builder and load the defaults\n",
    "cb = DTKConfigBuilder.from_defaults('VECTOR_SIM')\n",
    "\n",
    "# Lets run our simulation with the Namawala input set\n",
    "configure_site(cb, 'Namawala')\n",
    "\n",
    "# We are setting some other boilerplate parameters\n",
    "run_sim_args =  { 'config_builder' : cb,\n",
    "                  'exp_name'       : 'ExampleSim' }\n",
    "\n",
    "# Launch the simulation locally\n",
    "sm = SimulationManagerFactory.from_exe(DTKSetupParser().get('BINARIES','exe_path'),'LOCAL')\n",
    "sm.RunSimulations(**run_sim_args)\n",
    "\n",
    "# We will monitor the simulation every 3 seconds until finished\n",
    "while True:\n",
    "    print \"Simulation running...\"\n",
    "    states, msgs = sm.SimulationStatus()\n",
    "    if sm.statusFinished(states): break\n",
    "    else: time.sleep(3)\n",
    "\n",
    "# Test if the simulation completed successfully\n",
    "utils.test_if_simulation_done(states)"
   ]
  },
  {
   "cell_type": "markdown",
   "metadata": {},
   "source": [
    "# Retrieve the outputs and graph them\n",
    "Now that our test simulation completed successfully, lets visualize a graph of the output to make sure we can graph something."
   ]
  },
  {
   "cell_type": "code",
   "execution_count": 4,
   "metadata": {
    "collapsed": false
   },
   "outputs": [
    {
     "name": "stdout",
     "output_type": "stream",
     "text": [
      "(0, '2015_08_05_18_04_06_048000')\n"
     ]
    },
    {
     "data": {
      "image/png": "[encoded data removed]",
      "text/plain": [
       "<matplotlib.figure.Figure at 0x6208310>"
      ]
     },
     "metadata": {},
     "output_type": "display_data"
    }
   ],
   "source": [
    "%matplotlib inline\n",
    "from matplotlib import pyplot as plt\n",
    "# Add an analyzer to the simulation manager\n",
    "sm.AddAnalyzer( utils.NotebookAnalyzer())\n",
    "\n",
    "# Launch the analysis\n",
    "sm.AnalyzeSimulations()"
   ]
  }
 ],
 "metadata": {
  "kernelspec": {
   "display_name": "Python 2",
   "language": "python",
   "name": "python2"
  },
  "language_info": {
   "codemirror_mode": {
    "name": "ipython",
    "version": 2
   },
   "file_extension": ".py",
   "mimetype": "text/x-python",
   "name": "python",
   "nbconvert_exporter": "python",
   "pygments_lexer": "ipython2",
   "version": "2.7.10"
  }
 },
 "nbformat": 4,
 "nbformat_minor": 0
}
