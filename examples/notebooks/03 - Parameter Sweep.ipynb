{
 "cells": [
  {
   "cell_type": "markdown",
   "metadata": {},
   "source": [
    "##Parameter Sweep\n",
    "\n",
    "Say we want to run more than one simulation, each with a set of small differences compared to a base configuration.  Generically, this concept is accommodated by the `Builder` class, which is basically a generator that returns a list of functions to apply to the base configuration to make each unique simulation.\n",
    "\n",
    "The specific example below will generate six simulations for all combinations of 3 random seeds and 2 example study sites, Namawala in Tanzania and Matsari in Nigeria.\n",
    "\n",
    "Note also that we can pass in configuration parameter overrides directly to the `DTKConfigBuilder` constructor."
   ]
  },
  {
   "cell_type": "code",
   "execution_count": null,
   "metadata": {
    "collapsed": true
   },
   "outputs": [],
   "source": [
    "from dtk.utils.core.DTKConfigBuilder import DTKConfigBuilder\n",
    "from dtk.utils.builders.sweep import GenericSweepBuilder\n",
    "\n",
    "exp_name  = 'SweepDemo'\n",
    "builder   = GenericSweepBuilder.from_dict({'Run_Number': range(3),\n",
    "                                           '_site_' : ['Namawala', 'Matsari']})\n",
    "\n",
    "cb = DTKConfigBuilder.from_defaults('MALARIA_SIM', \n",
    "                                    Num_Cores=1, \n",
    "                                    Base_Population_Scale_Factor=0.1,\n",
    "                                    x_Temporary_Larval_Habitat=0.05,\n",
    "                                    Simulation_Duration=365*5)\n",
    "\n",
    "run_sim_args =  { 'config_builder' : cb,\n",
    "                  'exp_name'       : exp_name,\n",
    "                  'exp_builder'    : builder }"
   ]
  },
  {
   "cell_type": "markdown",
   "metadata": {},
   "source": [
    "As in the previous example, since we're not using the command-line utility here, we'll rely on a few helper functions, which are defined in the `utils.py` module."
   ]
  },
  {
   "cell_type": "code",
   "execution_count": null,
   "metadata": {
    "collapsed": true
   },
   "outputs": [],
   "source": [
    "from utils import get_sim_manager, run_demo, monitor_status, draw_plots\n",
    "\n",
    "sm = get_sim_manager()"
   ]
  },
  {
   "cell_type": "code",
   "execution_count": null,
   "metadata": {
    "collapsed": false
   },
   "outputs": [],
   "source": [
    "run_demo(sm, run_sim_args)"
   ]
  },
  {
   "cell_type": "markdown",
   "metadata": {},
   "source": [
    "The output above should show the metadata for each of the simulations in our sweep.  If we monitor our simulations, we may note they take a bit longer as we are now running the full malaria model rather than the simplified vector model (with generic within-host disease dynamics)."
   ]
  },
  {
   "cell_type": "code",
   "execution_count": null,
   "metadata": {
    "collapsed": false
   },
   "outputs": [],
   "source": [
    "monitor_status(sm)"
   ]
  },
  {
   "cell_type": "markdown",
   "metadata": {},
   "source": [
    "Finally, let's define the analyzers in a similar fashion as in the previous tutorial.  Note that now we have multiple simulations, so the `plot_grouped_lines` function will draw one line per simulation colored by group (i.e. site).  The default plotting function for the `VectorSpeciesAnalyzer` is just plotting the mean for each group (i.e. mean of random seeds)."
   ]
  },
  {
   "cell_type": "code",
   "execution_count": null,
   "metadata": {
    "collapsed": true
   },
   "outputs": [],
   "source": [
    "from dtk.utils.analyzers import sample_selection, group_by_name, plot_grouped_lines, \\\n",
    "                                TimeseriesAnalyzer, VectorSpeciesAnalyzer\n",
    "\n",
    "analyzers = [ TimeseriesAnalyzer(\n",
    "                filename='InsetChart.json',\n",
    "                channels=['Rainfall', 'Adult Vectors', 'Daily EIR', 'Infected'],\n",
    "                select_function=sample_selection(freq='W', start_date='1/1/2000'),\n",
    "                group_function=group_by_name('_site_'),\n",
    "                plot_function=plot_grouped_lines\n",
    "                ),\n",
    "              VectorSpeciesAnalyzer(\n",
    "                filename='VectorSpeciesReport.json',\n",
    "                channels=['Adult Vectors', 'Daily EIR'],        \n",
    "                select_function=sample_selection(freq='W', start_date='1/1/2000'),\n",
    "                group_function=group_by_name('_site_'),\n",
    "                )\n",
    "            ]"
   ]
  },
  {
   "cell_type": "code",
   "execution_count": null,
   "metadata": {
    "collapsed": false
   },
   "outputs": [],
   "source": [
    "%matplotlib inline\n",
    "draw_plots(sm, analyzers)"
   ]
  }
 ],
 "metadata": {
  "kernelspec": {
   "display_name": "Python 2",
   "language": "python",
   "name": "python2"
  },
  "language_info": {
   "codemirror_mode": {
    "name": "ipython",
    "version": 2
   },
   "file_extension": ".py",
   "mimetype": "text/x-python",
   "name": "python",
   "nbconvert_exporter": "python",
   "pygments_lexer": "ipython2",
   "version": "2.7.10"
  }
 },
 "nbformat": 4,
 "nbformat_minor": 0
}
