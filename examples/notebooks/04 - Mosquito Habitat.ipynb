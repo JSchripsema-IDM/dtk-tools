{
 "cells": [
  {
   "cell_type": "markdown",
   "metadata": {},
   "source": [
    "## Mosquito Habitat\n",
    "\n",
    "Let's explore how different larval habitat models respond to climate and the downstream impact on mosquito abundances."
   ]
  },
  {
   "cell_type": "code",
   "execution_count": 1,
   "metadata": {
    "collapsed": true
   },
   "outputs": [],
   "source": [
    "from dtk.utils.core.DTKConfigBuilder import DTKConfigBuilder\n",
    "from dtk.vector.study_sites import configure_site\n",
    "\n",
    "cb = DTKConfigBuilder.from_defaults('VECTOR_SIM',\n",
    "                                    Simulation_Duration=5*365)\n",
    "configure_site(cb, 'Sinazongwe')\n",
    "\n",
    "run_sim_args =  { 'config_builder' : cb,\n",
    "                  'exp_name'       : 'HabitatDemo' }"
   ]
  },
  {
   "cell_type": "code",
   "execution_count": 2,
   "metadata": {
    "collapsed": true
   },
   "outputs": [],
   "source": [
    "from dtk.vector.species import set_larval_habitat\n",
    "\n",
    "def arabiensis_extinction(cb):\n",
    "    # Low-level An. arabiensis transmission with temporary rainfall-driven habitat only\n",
    "    # leading to extinction during dry-season\n",
    "    set_larval_habitat(cb, {'arabiensis': {\"TEMPORARY_RAINFALL\": 4e8 }})\n",
    "    \n",
    "def arabiensis_with_small_constant_component(cb):\n",
    "    # Low-level An. arabiensis transmission with temporary rainfall-driven habitat\n",
    "    # plus a small constant component leading to perpetuation through the dry-season\n",
    "    set_larval_habitat(cb, {'arabiensis': {\"TEMPORARY_RAINFALL\": 4e8,\n",
    "                                           \"CONSTANT\"          : 5e7 }})\n",
    "    \n",
    "def arabiensis_funestus_vectors(cb):\n",
    "    # Multiple vector species: An. arabiensis and An. funestus\n",
    "    # Tune parameters to observed biting rates by species, sporozoite rates\n",
    "    set_larval_habitat(cb, {'arabiensis': {\"TEMPORARY_RAINFALL\": 2e10,\n",
    "                                           \"CONSTANT\"          : 1e7},\n",
    "                            'funestus'  : {\"WATER_VEGETATION\"  : 2e9}})"
   ]
  },
  {
   "cell_type": "code",
   "execution_count": 3,
   "metadata": {
    "collapsed": true
   },
   "outputs": [],
   "source": [
    "from dtk.interventions.itn import add_ITN\n",
    "\n",
    "def child_ITN_distribution(cb, coverage):\n",
    "    # Distribute default ITN to under-5-yr-old children at specified coverage\n",
    "    add_ITN(cb, start=3*365, coverage_by_ages=[{'coverage': coverage, 'min':0, 'max': 5}], receiving_itn_event={})\n",
    "    \n",
    "def population_ITN_distribution(cb, coverage):\n",
    "    # Distribute default ITN to all ages at specified coverage\n",
    "    add_ITN(cb, start=3*365, coverage_by_ages=[{'coverage': coverage}], receiving_itn_event={})"
   ]
  },
  {
   "cell_type": "code",
   "execution_count": 4,
   "metadata": {
    "collapsed": true
   },
   "outputs": [],
   "source": [
    "arabiensis_funestus_vectors(cb)\n",
    "population_ITN_distribution(cb, coverage=0.9)"
   ]
  },
  {
   "cell_type": "code",
   "execution_count": 5,
   "metadata": {
    "collapsed": false
   },
   "outputs": [
    {
     "name": "stderr",
     "output_type": "stream",
     "text": [
      "C:\\Users\\braybaud\\PycharmProjects\\venv\\dtk\\lib\\site-packages\\matplotlib\\__init__.py:872: UserWarning: axes.color_cycle is deprecated and replaced with axes.prop_cycle; please use the latter.\n",
      "  warnings.warn(self.msg_depr % (key, alt_key))\n",
      "C:\\Users\\braybaud\\PycharmProjects\\venv\\dtk\\lib\\site-packages\\matplotlib\\__init__.py:892: UserWarning: axes.color_cycle is deprecated and replaced with axes.prop_cycle; please use the latter.\n",
      "  warnings.warn(self.msg_depr % (key, alt_key))\n"
     ]
    }
   ],
   "source": [
    "from dtk.utils.analyzers import sample_selection, group_by_name, plot_grouped_lines, \\\n",
    "                                TimeseriesAnalyzer, VectorSpeciesAnalyzer\n",
    "\n",
    "analyzers = [ TimeseriesAnalyzer(\n",
    "                filename='InsetChart.json',\n",
    "                channels=['Rainfall', 'Adult Vectors', 'Daily EIR', 'Infected'],\n",
    "                select_function=sample_selection(freq='W', start_date='1/1/2000'),\n",
    "                group_function=group_by_name('_site_'),\n",
    "                plot_function=plot_grouped_lines\n",
    "                ),\n",
    "              VectorSpeciesAnalyzer(\n",
    "                filename='VectorSpeciesReport.json',\n",
    "                channels=['Adult Vectors', 'Daily EIR'],        \n",
    "                select_function=sample_selection(freq='W', start_date='1/1/2000'),\n",
    "                group_function=group_by_name('_site_'),\n",
    "                )\n",
    "            ]"
   ]
  },
  {
   "cell_type": "code",
   "execution_count": 6,
   "metadata": {
    "collapsed": true
   },
   "outputs": [],
   "source": [
    "from utils import get_sim_manager, run_demo, monitor_status, draw_plots\n",
    "\n",
    "sm = get_sim_manager()"
   ]
  },
  {
   "cell_type": "code",
   "execution_count": 7,
   "metadata": {
    "collapsed": true
   },
   "outputs": [],
   "source": [
    "def rerun():\n",
    "    run_demo(sm, run_sim_args)\n",
    "    monitor_status(sm)\n",
    "    draw_plots(sm, analyzers)"
   ]
  },
  {
   "cell_type": "code",
   "execution_count": 8,
   "metadata": {
    "collapsed": false
   },
   "outputs": [
    {
     "data": {
      "text/plain": [
       "{'exp_id': '2016_02_18_07_18_51_201000',\n",
       " 'exp_name': 'HabitatDemo',\n",
       " 'location': 'LOCAL',\n",
       " 'sim_root': 'C:\\\\Users\\\\braybaud\\\\PycharmProjects\\\\dtk-tools\\\\examples\\\\notebooks\\\\simulations',\n",
       " 'sim_type': 'VECTOR_SIM',\n",
       " 'sims': {'2016_02_18_07_18_51_213000': {'jobId': 3812}}}"
      ]
     },
     "metadata": {},
     "output_type": "display_data"
    },
    {
     "name": "stdout",
     "output_type": "stream",
     "text": [
      "Job states:\n",
      "{\n",
      "    \"3812\": \"Running\"\n",
      "}\n",
      "{'Running': 1}\n",
      "Job states:\n",
      "{\n",
      "    \"3812\": \"Canceled\"\n",
      "}\n",
      "{'Canceled': 1}\n",
      "(0, '2016_02_18_07_18_51_213000')\n"
     ]
    },
    {
     "name": "stderr",
     "output_type": "stream",
     "text": [
      "Exception in thread Thread-8:\n",
      "Traceback (most recent call last):\n",
      "  File \"C:\\Python27\\Lib\\threading.py\", line 810, in __bootstrap_inner\n",
      "    self.run()\n",
      "  File \"C:\\Users\\braybaud\\PycharmProjects\\venv\\dtk\\lib\\site-packages\\dtk\\utils\\simulation\\OutputParser.py\", line 32, in run\n",
      "    self.load_all_files(filenames)\n",
      "  File \"C:\\Users\\braybaud\\PycharmProjects\\venv\\dtk\\lib\\site-packages\\dtk\\utils\\simulation\\OutputParser.py\", line 45, in load_all_files\n",
      "    self.load_single_file(filename)\n",
      "  File \"C:\\Users\\braybaud\\PycharmProjects\\venv\\dtk\\lib\\site-packages\\dtk\\utils\\simulation\\OutputParser.py\", line 52, in load_single_file\n",
      "    self.load_json_file(filename, *args)\n",
      "  File \"C:\\Users\\braybaud\\PycharmProjects\\venv\\dtk\\lib\\site-packages\\dtk\\utils\\simulation\\OutputParser.py\", line 61, in load_json_file\n",
      "    with open(os.path.join(self.get_sim_dir(), 'output', filename)) as json_file:\n",
      "IOError: [Errno 2] No such file or directory: 'C:\\\\Users\\\\braybaud\\\\PycharmProjects\\\\dtk-tools\\\\examples\\\\notebooks\\\\simulations\\\\HabitatDemo_2016_02_18_07_18_51_201000\\\\2016_02_18_07_18_51_213000\\\\output\\\\InsetChart.json'\n",
      "\n"
     ]
    },
    {
     "ename": "ValueError",
     "evalue": "No objects to concatenate",
     "output_type": "error",
     "traceback": [
      "\u001b[1;31m---------------------------------------------------------------------------\u001b[0m",
      "\u001b[1;31mValueError\u001b[0m                                Traceback (most recent call last)",
      "\u001b[1;32m<ipython-input-8-ef611591147d>\u001b[0m in \u001b[0;36m<module>\u001b[1;34m()\u001b[0m\n\u001b[0;32m      1\u001b[0m \u001b[0mget_ipython\u001b[0m\u001b[1;33m(\u001b[0m\u001b[1;33m)\u001b[0m\u001b[1;33m.\u001b[0m\u001b[0mmagic\u001b[0m\u001b[1;33m(\u001b[0m\u001b[1;34mu'matplotlib inline'\u001b[0m\u001b[1;33m)\u001b[0m\u001b[1;33m\u001b[0m\u001b[0m\n\u001b[1;32m----> 2\u001b[1;33m \u001b[0mrerun\u001b[0m\u001b[1;33m(\u001b[0m\u001b[1;33m)\u001b[0m\u001b[1;33m\u001b[0m\u001b[0m\n\u001b[0m",
      "\u001b[1;32m<ipython-input-7-c117c6c44120>\u001b[0m in \u001b[0;36mrerun\u001b[1;34m()\u001b[0m\n\u001b[0;32m      2\u001b[0m     \u001b[0mrun_demo\u001b[0m\u001b[1;33m(\u001b[0m\u001b[0msm\u001b[0m\u001b[1;33m,\u001b[0m \u001b[0mrun_sim_args\u001b[0m\u001b[1;33m)\u001b[0m\u001b[1;33m\u001b[0m\u001b[0m\n\u001b[0;32m      3\u001b[0m     \u001b[0mmonitor_status\u001b[0m\u001b[1;33m(\u001b[0m\u001b[0msm\u001b[0m\u001b[1;33m)\u001b[0m\u001b[1;33m\u001b[0m\u001b[0m\n\u001b[1;32m----> 4\u001b[1;33m     \u001b[0mdraw_plots\u001b[0m\u001b[1;33m(\u001b[0m\u001b[0msm\u001b[0m\u001b[1;33m,\u001b[0m \u001b[0manalyzers\u001b[0m\u001b[1;33m)\u001b[0m\u001b[1;33m\u001b[0m\u001b[0m\n\u001b[0m",
      "\u001b[1;32mC:\\Users\\braybaud\\PycharmProjects\\dtk-tools\\examples\\notebooks\\utils.pyc\u001b[0m in \u001b[0;36mdraw_plots\u001b[1;34m(sm, analyzers)\u001b[0m\n\u001b[0;32m     74\u001b[0m \u001b[1;32mdef\u001b[0m \u001b[0mdraw_plots\u001b[0m\u001b[1;33m(\u001b[0m\u001b[0msm\u001b[0m\u001b[1;33m,\u001b[0m \u001b[0manalyzers\u001b[0m\u001b[1;33m)\u001b[0m\u001b[1;33m:\u001b[0m\u001b[1;33m\u001b[0m\u001b[0m\n\u001b[0;32m     75\u001b[0m     \u001b[0msm\u001b[0m\u001b[1;33m.\u001b[0m\u001b[0manalyzers\u001b[0m \u001b[1;33m=\u001b[0m \u001b[0manalyzers\u001b[0m\u001b[1;33m\u001b[0m\u001b[0m\n\u001b[1;32m---> 76\u001b[1;33m     \u001b[0msm\u001b[0m\u001b[1;33m.\u001b[0m\u001b[0mAnalyzeSimulations\u001b[0m\u001b[1;33m(\u001b[0m\u001b[1;33m)\u001b[0m\u001b[1;33m\u001b[0m\u001b[0m\n\u001b[0m",
      "\u001b[1;32mC:\\Users\\braybaud\\PycharmProjects\\venv\\dtk\\lib\\site-packages\\dtk\\utils\\simulation\\SimulationManager.pyc\u001b[0m in \u001b[0;36mAnalyzeSimulations\u001b[1;34m(self)\u001b[0m\n\u001b[0;32m    339\u001b[0m \u001b[1;33m\u001b[0m\u001b[0m\n\u001b[0;32m    340\u001b[0m         \u001b[1;32mfor\u001b[0m \u001b[0ma\u001b[0m \u001b[1;32min\u001b[0m \u001b[0mself\u001b[0m\u001b[1;33m.\u001b[0m\u001b[0manalyzers\u001b[0m\u001b[1;33m:\u001b[0m\u001b[1;33m\u001b[0m\u001b[0m\n\u001b[1;32m--> 341\u001b[1;33m             \u001b[0ma\u001b[0m\u001b[1;33m.\u001b[0m\u001b[0mcombine\u001b[0m\u001b[1;33m(\u001b[0m\u001b[0mparsers\u001b[0m\u001b[1;33m)\u001b[0m\u001b[1;33m\u001b[0m\u001b[0m\n\u001b[0m\u001b[0;32m    342\u001b[0m             \u001b[0ma\u001b[0m\u001b[1;33m.\u001b[0m\u001b[0mfinalize\u001b[0m\u001b[1;33m(\u001b[0m\u001b[1;33m)\u001b[0m\u001b[1;33m\u001b[0m\u001b[0m\n\u001b[0;32m    343\u001b[0m \u001b[1;33m\u001b[0m\u001b[0m\n",
      "\u001b[1;32mC:\\Users\\braybaud\\PycharmProjects\\venv\\dtk\\lib\\site-packages\\dtk\\utils\\analyzers\\timeseries.pyc\u001b[0m in \u001b[0;36mcombine\u001b[1;34m(self, parsers)\u001b[0m\n\u001b[0;32m     60\u001b[0m         combined = pd.concat(selected, axis=1, \n\u001b[0;32m     61\u001b[0m                              \u001b[0mkeys\u001b[0m\u001b[1;33m=\u001b[0m\u001b[1;33m[\u001b[0m\u001b[1;33m(\u001b[0m\u001b[0md\u001b[0m\u001b[1;33m.\u001b[0m\u001b[0mgroup\u001b[0m\u001b[1;33m,\u001b[0m \u001b[0md\u001b[0m\u001b[1;33m.\u001b[0m\u001b[0msim_id\u001b[0m\u001b[1;33m)\u001b[0m \u001b[1;32mfor\u001b[0m \u001b[0md\u001b[0m \u001b[1;32min\u001b[0m \u001b[0mselected\u001b[0m\u001b[1;33m]\u001b[0m\u001b[1;33m,\u001b[0m\u001b[1;33m\u001b[0m\u001b[0m\n\u001b[1;32m---> 62\u001b[1;33m                              names=self.data_group_names)\n\u001b[0m\u001b[0;32m     63\u001b[0m         \u001b[0mself\u001b[0m\u001b[1;33m.\u001b[0m\u001b[0mdata\u001b[0m \u001b[1;33m=\u001b[0m \u001b[0mcombined\u001b[0m\u001b[1;33m.\u001b[0m\u001b[0mreorder_levels\u001b[0m\u001b[1;33m(\u001b[0m\u001b[0mself\u001b[0m\u001b[1;33m.\u001b[0m\u001b[0mordered_levels\u001b[0m\u001b[1;33m,\u001b[0m \u001b[0maxis\u001b[0m\u001b[1;33m=\u001b[0m\u001b[1;36m1\u001b[0m\u001b[1;33m)\u001b[0m\u001b[1;33m.\u001b[0m\u001b[0msortlevel\u001b[0m\u001b[1;33m(\u001b[0m\u001b[0maxis\u001b[0m\u001b[1;33m=\u001b[0m\u001b[1;36m1\u001b[0m\u001b[1;33m)\u001b[0m\u001b[1;33m\u001b[0m\u001b[0m\n\u001b[0;32m     64\u001b[0m \u001b[1;33m\u001b[0m\u001b[0m\n",
      "\u001b[1;32mC:\\Users\\braybaud\\PycharmProjects\\venv\\dtk\\lib\\site-packages\\pandas\\tools\\merge.pyc\u001b[0m in \u001b[0;36mconcat\u001b[1;34m(objs, axis, join, join_axes, ignore_index, keys, levels, names, verify_integrity, copy)\u001b[0m\n\u001b[0;32m    807\u001b[0m                        \u001b[0mkeys\u001b[0m\u001b[1;33m=\u001b[0m\u001b[0mkeys\u001b[0m\u001b[1;33m,\u001b[0m \u001b[0mlevels\u001b[0m\u001b[1;33m=\u001b[0m\u001b[0mlevels\u001b[0m\u001b[1;33m,\u001b[0m \u001b[0mnames\u001b[0m\u001b[1;33m=\u001b[0m\u001b[0mnames\u001b[0m\u001b[1;33m,\u001b[0m\u001b[1;33m\u001b[0m\u001b[0m\n\u001b[0;32m    808\u001b[0m                        \u001b[0mverify_integrity\u001b[0m\u001b[1;33m=\u001b[0m\u001b[0mverify_integrity\u001b[0m\u001b[1;33m,\u001b[0m\u001b[1;33m\u001b[0m\u001b[0m\n\u001b[1;32m--> 809\u001b[1;33m                        copy=copy)\n\u001b[0m\u001b[0;32m    810\u001b[0m     \u001b[1;32mreturn\u001b[0m \u001b[0mop\u001b[0m\u001b[1;33m.\u001b[0m\u001b[0mget_result\u001b[0m\u001b[1;33m(\u001b[0m\u001b[1;33m)\u001b[0m\u001b[1;33m\u001b[0m\u001b[0m\n\u001b[0;32m    811\u001b[0m \u001b[1;33m\u001b[0m\u001b[0m\n",
      "\u001b[1;32mC:\\Users\\braybaud\\PycharmProjects\\venv\\dtk\\lib\\site-packages\\pandas\\tools\\merge.pyc\u001b[0m in \u001b[0;36m__init__\u001b[1;34m(self, objs, axis, join, join_axes, keys, levels, names, ignore_index, verify_integrity, copy)\u001b[0m\n\u001b[0;32m    840\u001b[0m \u001b[1;33m\u001b[0m\u001b[0m\n\u001b[0;32m    841\u001b[0m         \u001b[1;32mif\u001b[0m \u001b[0mlen\u001b[0m\u001b[1;33m(\u001b[0m\u001b[0mobjs\u001b[0m\u001b[1;33m)\u001b[0m \u001b[1;33m==\u001b[0m \u001b[1;36m0\u001b[0m\u001b[1;33m:\u001b[0m\u001b[1;33m\u001b[0m\u001b[0m\n\u001b[1;32m--> 842\u001b[1;33m             \u001b[1;32mraise\u001b[0m \u001b[0mValueError\u001b[0m\u001b[1;33m(\u001b[0m\u001b[1;34m'No objects to concatenate'\u001b[0m\u001b[1;33m)\u001b[0m\u001b[1;33m\u001b[0m\u001b[0m\n\u001b[0m\u001b[0;32m    843\u001b[0m \u001b[1;33m\u001b[0m\u001b[0m\n\u001b[0;32m    844\u001b[0m         \u001b[1;32mif\u001b[0m \u001b[0mkeys\u001b[0m \u001b[1;32mis\u001b[0m \u001b[0mNone\u001b[0m\u001b[1;33m:\u001b[0m\u001b[1;33m\u001b[0m\u001b[0m\n",
      "\u001b[1;31mValueError\u001b[0m: No objects to concatenate"
     ]
    }
   ],
   "source": [
    "%matplotlib inline\n",
    "rerun()"
   ]
  },
  {
   "cell_type": "code",
   "execution_count": null,
   "metadata": {
    "collapsed": true
   },
   "outputs": [],
   "source": []
  }
 ],
 "metadata": {
  "kernelspec": {
   "display_name": "Python 2",
   "language": "python",
   "name": "python2"
  },
  "language_info": {
   "codemirror_mode": {
    "name": "ipython",
    "version": 2
   },
   "file_extension": ".py",
   "mimetype": "text/x-python",
   "name": "python",
   "nbconvert_exporter": "python",
   "pygments_lexer": "ipython2",
   "version": "2.7.10"
  }
 },
 "nbformat": 4,
 "nbformat_minor": 0
}
