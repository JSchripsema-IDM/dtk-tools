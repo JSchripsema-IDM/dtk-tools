{
 "cells": [
  {
   "cell_type": "markdown",
   "metadata": {},
   "source": [
    "## Mosquito Habitat\n",
    "\n",
    "Let's explore how different larval habitat models respond to climate and the downstream impact on mosquito abundances."
   ]
  },
  {
   "cell_type": "code",
   "execution_count": null,
   "metadata": {
    "collapsed": true
   },
   "outputs": [],
   "source": [
    "from dtk.utils.core.DTKConfigBuilder import DTKConfigBuilder\n",
    "from dtk.vector.study_sites import configure_site\n",
    "\n",
    "cb = DTKConfigBuilder.from_defaults('VECTOR_SIM',\n",
    "                                    Simulation_Duration=5*365)\n",
    "configure_site(cb, 'Sinazongwe')\n",
    "\n",
    "run_sim_args =  { 'config_builder' : cb,\n",
    "                  'exp_name'       : 'HabitatDemo' }"
   ]
  },
  {
   "cell_type": "code",
   "execution_count": null,
   "metadata": {
    "collapsed": true
   },
   "outputs": [],
   "source": [
    "from dtk.vector.species import set_larval_habitat\n",
    "\n",
    "def arabiensis_extinction(cb):\n",
    "    # Low-level An. arabiensis transmission with temporary rainfall-driven habitat only\n",
    "    # leading to extinction during dry-season\n",
    "    set_larval_habitat(cb, {'arabiensis': {\"TEMPORARY_RAINFALL\": 4e8 }})\n",
    "    \n",
    "def arabiensis_with_small_constant_component(cb):\n",
    "    # Low-level An. arabiensis transmission with temporary rainfall-driven habitat\n",
    "    # plus a small constant component leading to perpetuation through the dry-season\n",
    "    set_larval_habitat(cb, {'arabiensis': {\"TEMPORARY_RAINFALL\": 4e8,\n",
    "                                           \"CONSTANT\"          : 5e7 }})\n",
    "    \n",
    "def arabiensis_funestus_vectors(cb):\n",
    "    # Multiple vector species: An. arabiensis and An. funestus\n",
    "    # Tune parameters to observed biting rates by species, sporozoite rates\n",
    "    set_larval_habitat(cb, {'arabiensis': {\"TEMPORARY_RAINFALL\": 2e10,\n",
    "                                           \"CONSTANT\"          : 1e7},\n",
    "                            'funestus'  : {\"WATER_VEGETATION\"  : 2e9}})"
   ]
  },
  {
   "cell_type": "code",
   "execution_count": null,
   "metadata": {
    "collapsed": true
   },
   "outputs": [],
   "source": [
    "from dtk.interventions.itn import add_ITN\n",
    "\n",
    "def child_ITN_distribution(cb, coverage):\n",
    "    # Distribute default ITN to under-5-yr-old children at specified coverage\n",
    "    add_ITN(cb, start=3*365, coverage_by_ages=[{'coverage': coverage, 'min':0, 'max': 5}])\n",
    "    \n",
    "def population_ITN_distribution(cb, coverage):\n",
    "    # Distribute default ITN to all ages at specified coverage\n",
    "    add_ITN(cb, start=3*365, coverage_by_ages=[{'coverage': coverage}])"
   ]
  },
  {
   "cell_type": "code",
   "execution_count": null,
   "metadata": {
    "collapsed": true
   },
   "outputs": [],
   "source": [
    "arabiensis_funestus_vectors(cb)\n",
    "population_ITN_distribution(cb, coverage=0.9)"
   ]
  },
  {
   "cell_type": "code",
   "execution_count": null,
   "metadata": {
    "collapsed": true
   },
   "outputs": [],
   "source": [
    "from dtk.utils.analyzers import sample_selection, group_by_name, plot_grouped_lines, \\\n",
    "                                TimeseriesAnalyzer, VectorSpeciesAnalyzer\n",
    "\n",
    "analyzers = [ TimeseriesAnalyzer(\n",
    "                filename='InsetChart.json',\n",
    "                channels=['Rainfall', 'Adult Vectors', 'Daily EIR', 'Infected'],\n",
    "                select_function=sample_selection(freq='W', start_date='1/1/2000'),\n",
    "                group_function=group_by_name('_site_'),\n",
    "                plot_function=plot_grouped_lines\n",
    "                ),\n",
    "              VectorSpeciesAnalyzer(\n",
    "                filename='VectorSpeciesReport.json',\n",
    "                channels=['Adult Vectors', 'Daily EIR'],        \n",
    "                select_function=sample_selection(freq='W', start_date='1/1/2000'),\n",
    "                group_function=group_by_name('_site_'),\n",
    "                )\n",
    "            ]"
   ]
  },
  {
   "cell_type": "code",
   "execution_count": null,
   "metadata": {
    "collapsed": true
   },
   "outputs": [],
   "source": [
    "from utils import get_sim_manager, run_demo, monitor_status, draw_plots\n",
    "\n",
    "sm = get_sim_manager()"
   ]
  },
  {
   "cell_type": "code",
   "execution_count": null,
   "metadata": {
    "collapsed": true
   },
   "outputs": [],
   "source": [
    "def rerun():\n",
    "    run_demo(sm, run_sim_args)\n",
    "    monitor_status(sm)\n",
    "    draw_plots(sm, analyzers)"
   ]
  },
  {
   "cell_type": "code",
   "execution_count": null,
   "metadata": {
    "collapsed": false
   },
   "outputs": [],
   "source": [
    "%matplotlib inline\n",
    "rerun()"
   ]
  }
 ],
 "metadata": {
  "kernelspec": {
   "display_name": "Python 2",
   "language": "python",
   "name": "python2"
  },
  "language_info": {
   "codemirror_mode": {
    "name": "ipython",
    "version": 2
   },
   "file_extension": ".py",
   "mimetype": "text/x-python",
   "name": "python",
   "nbconvert_exporter": "python",
   "pygments_lexer": "ipython2",
   "version": "2.7.10"
  }
 },
 "nbformat": 4,
 "nbformat_minor": 0
}
